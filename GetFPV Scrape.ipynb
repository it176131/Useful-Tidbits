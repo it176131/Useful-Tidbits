{
 "cells": [
  {
   "cell_type": "markdown",
   "metadata": {
    "heading_collapsed": true
   },
   "source": [
    "# Libraries"
   ]
  },
  {
   "cell_type": "code",
   "execution_count": 5,
   "metadata": {
    "hidden": true
   },
   "outputs": [],
   "source": [
    "import requests\n",
    "from bs4 import BeautifulSoup\n",
    "import pandas as pd"
   ]
  },
  {
   "cell_type": "markdown",
   "metadata": {
    "heading_collapsed": true
   },
   "source": [
    "# Session"
   ]
  },
  {
   "cell_type": "code",
   "execution_count": 6,
   "metadata": {
    "hidden": true
   },
   "outputs": [
    {
     "name": "stdout",
     "output_type": "stream",
     "text": [
      "200 True\n"
     ]
    }
   ],
   "source": [
    "# open session\n",
    "rs = requests.session()\n",
    "\n",
    "# search video receivers\n",
    "url = \"https://www.getfpv.com/fpv/video-receivers.html\"\n",
    "result = rs.get(url)\n",
    "\n",
    "# check if we made it to site\n",
    "print(result.status_code, result.ok)\n",
    "\n",
    "# make soup\n",
    "soup = BeautifulSoup(result.text, 'html.parser')\n",
    "\n",
    "# close session\n",
    "result.close()"
   ]
  },
  {
   "cell_type": "markdown",
   "metadata": {},
   "source": [
    "# Scrape"
   ]
  },
  {
   "cell_type": "code",
   "execution_count": 13,
   "metadata": {},
   "outputs": [],
   "source": [
    "# items = soup.find_all('li', {'class' : 'item last'})\n",
    "details = soup.find_all('div', {'class' : 'details-area'})\n",
    "\n",
    "df,i = pd.DataFrame(), 0\n",
    "# for det,item in zip(details, items):\n",
    "for det in details:\n",
    "#     product_name\n",
    "    df.loc[i, 'product_name'] = det.h2.a['title'].upper()\n",
    "# #     image\n",
    "#     df.loc[i, 'image'] = item.a.img['src']\n",
    "#     price\n",
    "    special = 0\n",
    "    if det.find('p', {'class' : 'special-price'}):\n",
    "        special = 1\n",
    "        price = det.find('p', {'class' : 'special-price'}).find('span', {'class' : 'price'}).text.strip()\n",
    "    else:\n",
    "        price = det.find('span', {'class' : 'price'}).text\n",
    "    price = float(price.replace('$', '').replace(',', ''))\n",
    "    df.loc[i, 'special'] = special\n",
    "    df.loc[i, 'price'] = price\n",
    "    available = 'available'\n",
    "    if det.find('div', {'class' : 'div_availability backordered'}):\n",
    "        available = det.find('div', {'class' : 'div_availability backordered'}).text.lower()\n",
    "    df.loc[i, 'availability'] = available\n",
    "    i += 1"
   ]
  },
  {
   "cell_type": "code",
   "execution_count": 14,
   "metadata": {
    "scrolled": true
   },
   "outputs": [
    {
     "data": {
      "text/html": [
       "<div>\n",
       "<style scoped>\n",
       "    .dataframe tbody tr th:only-of-type {\n",
       "        vertical-align: middle;\n",
       "    }\n",
       "\n",
       "    .dataframe tbody tr th {\n",
       "        vertical-align: top;\n",
       "    }\n",
       "\n",
       "    .dataframe thead th {\n",
       "        text-align: right;\n",
       "    }\n",
       "</style>\n",
       "<table border=\"1\" class=\"dataframe\">\n",
       "  <thead>\n",
       "    <tr style=\"text-align: right;\">\n",
       "      <th></th>\n",
       "      <th>product_name</th>\n",
       "      <th>special</th>\n",
       "      <th>price</th>\n",
       "      <th>availability</th>\n",
       "    </tr>\n",
       "  </thead>\n",
       "  <tbody>\n",
       "    <tr>\n",
       "      <th>0</th>\n",
       "      <td>IFTRON CLEARVIEW GOGGLE RECEIVER MODULE</td>\n",
       "      <td>0.0</td>\n",
       "      <td>289.99</td>\n",
       "      <td>pre-order</td>\n",
       "    </tr>\n",
       "    <tr>\n",
       "      <th>1</th>\n",
       "      <td>LAFORGE DIVERSITY FAT SHARK MODULE V4</td>\n",
       "      <td>0.0</td>\n",
       "      <td>39.99</td>\n",
       "      <td>available</td>\n",
       "    </tr>\n",
       "    <tr>\n",
       "      <th>2</th>\n",
       "      <td>IMMERSIONRC RAPIDFIRE W/ ANALOG PLUS GOGGLE RE...</td>\n",
       "      <td>0.0</td>\n",
       "      <td>0.00</td>\n",
       "      <td>available</td>\n",
       "    </tr>\n",
       "    <tr>\n",
       "      <th>3</th>\n",
       "      <td>FURIOUS TRUE-D DIVERSITY RECEIVER MODULE 5.8GH...</td>\n",
       "      <td>0.0</td>\n",
       "      <td>79.89</td>\n",
       "      <td>available</td>\n",
       "    </tr>\n",
       "    <tr>\n",
       "      <th>4</th>\n",
       "      <td>FAT SHARK 5.8GHZ 5G8RX 32CH RACE BAND RECEIVER...</td>\n",
       "      <td>0.0</td>\n",
       "      <td>30.99</td>\n",
       "      <td>available</td>\n",
       "    </tr>\n",
       "  </tbody>\n",
       "</table>\n",
       "</div>"
      ],
      "text/plain": [
       "                                        product_name  special   price  \\\n",
       "0            IFTRON CLEARVIEW GOGGLE RECEIVER MODULE      0.0  289.99   \n",
       "1              LAFORGE DIVERSITY FAT SHARK MODULE V4      0.0   39.99   \n",
       "2  IMMERSIONRC RAPIDFIRE W/ ANALOG PLUS GOGGLE RE...      0.0    0.00   \n",
       "3  FURIOUS TRUE-D DIVERSITY RECEIVER MODULE 5.8GH...      0.0   79.89   \n",
       "4  FAT SHARK 5.8GHZ 5G8RX 32CH RACE BAND RECEIVER...      0.0   30.99   \n",
       "\n",
       "  availability  \n",
       "0    pre-order  \n",
       "1    available  \n",
       "2    available  \n",
       "3    available  \n",
       "4    available  "
      ]
     },
     "execution_count": 14,
     "metadata": {},
     "output_type": "execute_result"
    }
   ],
   "source": [
    "df.head()"
   ]
  },
  {
   "cell_type": "markdown",
   "metadata": {
    "heading_collapsed": true
   },
   "source": [
    "## Reviews"
   ]
  },
  {
   "cell_type": "code",
   "execution_count": null,
   "metadata": {
    "hidden": true
   },
   "outputs": [],
   "source": []
  },
  {
   "cell_type": "markdown",
   "metadata": {},
   "source": [
    "# Data"
   ]
  }
 ],
 "metadata": {
  "anaconda-cloud": {},
  "kernelspec": {
   "display_name": "Python [default]",
   "language": "python",
   "name": "python3"
  },
  "language_info": {
   "codemirror_mode": {
    "name": "ipython",
    "version": 3
   },
   "file_extension": ".py",
   "mimetype": "text/x-python",
   "name": "python",
   "nbconvert_exporter": "python",
   "pygments_lexer": "ipython3",
   "version": "3.5.5"
  },
  "varInspector": {
   "cols": {
    "lenName": 16,
    "lenType": 16,
    "lenVar": 40
   },
   "kernels_config": {
    "python": {
     "delete_cmd_postfix": "",
     "delete_cmd_prefix": "del ",
     "library": "var_list.py",
     "varRefreshCmd": "print(var_dic_list())"
    },
    "r": {
     "delete_cmd_postfix": ") ",
     "delete_cmd_prefix": "rm(",
     "library": "var_list.r",
     "varRefreshCmd": "cat(var_dic_list()) "
    }
   },
   "types_to_exclude": [
    "module",
    "function",
    "builtin_function_or_method",
    "instance",
    "_Feature"
   ],
   "window_display": false
  }
 },
 "nbformat": 4,
 "nbformat_minor": 2
}
