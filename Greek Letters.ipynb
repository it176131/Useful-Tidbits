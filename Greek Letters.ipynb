{
 "cells": [
  {
   "cell_type": "markdown",
   "metadata": {},
   "source": [
    "# Dictionary of Lowercase Greek Letters"
   ]
  },
  {
   "cell_type": "code",
   "execution_count": 1,
   "metadata": {},
   "outputs": [],
   "source": [
    "greek_words = [\n",
    "    'alpha',\n",
    "    'beta',\n",
    "    'gamma',\n",
    "    'delta',\n",
    "    'epsilon',\n",
    "    'zeta',\n",
    "    'eta',\n",
    "    'theta',\n",
    "    'iota',\n",
    "    'kappa',\n",
    "    'lambda',\n",
    "    'mu',\n",
    "    'nu',\n",
    "    'xi',\n",
    "    'omicron',\n",
    "    'pi',\n",
    "    'rho',\n",
    "    'sigma_final',\n",
    "    'sigma',\n",
    "    'tau',\n",
    "    'upsilon',\n",
    "    'phi',\n",
    "    'chi',\n",
    "    'psi',\n",
    "    'omega'\n",
    "]\n",
    "\n",
    "greek_letters = {}\n",
    "for (greek, word) in zip(range(0x3b1,0x3ca), greek_words):\n",
    "    code = chr(greek).encode('utf-8')\n",
    "    greek_letters[word] = code.decode('utf-8', 'replace')"
   ]
  },
  {
   "cell_type": "code",
   "execution_count": 2,
   "metadata": {},
   "outputs": [
    {
     "data": {
      "text/plain": [
       "{'alpha': 'α',\n",
       " 'beta': 'β',\n",
       " 'chi': 'χ',\n",
       " 'delta': 'δ',\n",
       " 'epsilon': 'ε',\n",
       " 'eta': 'η',\n",
       " 'gamma': 'γ',\n",
       " 'iota': 'ι',\n",
       " 'kappa': 'κ',\n",
       " 'lambda': 'λ',\n",
       " 'mu': 'μ',\n",
       " 'nu': 'ν',\n",
       " 'omega': 'ω',\n",
       " 'omicron': 'ο',\n",
       " 'phi': 'φ',\n",
       " 'pi': 'π',\n",
       " 'psi': 'ψ',\n",
       " 'rho': 'ρ',\n",
       " 'sigma': 'σ',\n",
       " 'sigma_final': 'ς',\n",
       " 'tau': 'τ',\n",
       " 'theta': 'θ',\n",
       " 'upsilon': 'υ',\n",
       " 'xi': 'ξ',\n",
       " 'zeta': 'ζ'}"
      ]
     },
     "execution_count": 2,
     "metadata": {},
     "output_type": "execute_result"
    }
   ],
   "source": [
    "greek_letters"
   ]
  }
 ],
 "metadata": {
  "anaconda-cloud": {},
  "kernelspec": {
   "display_name": "Python [default]",
   "language": "python",
   "name": "python3"
  },
  "language_info": {
   "codemirror_mode": {
    "name": "ipython",
    "version": 3
   },
   "file_extension": ".py",
   "mimetype": "text/x-python",
   "name": "python",
   "nbconvert_exporter": "python",
   "pygments_lexer": "ipython3",
   "version": "3.5.5"
  },
  "varInspector": {
   "cols": {
    "lenName": 16,
    "lenType": 16,
    "lenVar": 40
   },
   "kernels_config": {
    "python": {
     "delete_cmd_postfix": "",
     "delete_cmd_prefix": "del ",
     "library": "var_list.py",
     "varRefreshCmd": "print(var_dic_list())"
    },
    "r": {
     "delete_cmd_postfix": ") ",
     "delete_cmd_prefix": "rm(",
     "library": "var_list.r",
     "varRefreshCmd": "cat(var_dic_list()) "
    }
   },
   "types_to_exclude": [
    "module",
    "function",
    "builtin_function_or_method",
    "instance",
    "_Feature"
   ],
   "window_display": false
  }
 },
 "nbformat": 4,
 "nbformat_minor": 2
}
